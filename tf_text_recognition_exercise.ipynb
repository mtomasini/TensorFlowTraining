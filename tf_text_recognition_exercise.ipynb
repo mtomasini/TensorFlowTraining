{
 "cells": [
  {
   "cell_type": "markdown",
   "metadata": {},
   "source": [
    "# Exercise: multi-class text classification on Stack Overflow questions\n",
    "\n",
    "In this notebook, I attempt to modify the work done in `tf_basic_text_recognition.ipynb` to perform multi-class recognition. This exercise was proposed as a follow up to the [basic tutorial](https://www.tensorflow.org/tutorials/keras/text_classification/).\n",
    "\n",
    "## Download data"
   ]
  },
  {
   "cell_type": "markdown",
   "metadata": {},
   "source": [
    "## Preprocess data"
   ]
  },
  {
   "cell_type": "markdown",
   "metadata": {},
   "source": [
    "\n",
    "## Train data"
   ]
  }
 ],
 "metadata": {
  "language_info": {
   "name": "python"
  },
  "orig_nbformat": 4
 },
 "nbformat": 4,
 "nbformat_minor": 2
}
