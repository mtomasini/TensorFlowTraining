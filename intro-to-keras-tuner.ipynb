{
 "cells": [
  {
   "cell_type": "markdown",
   "metadata": {},
   "source": [
    "# Introduction to the Keras Tuner\n",
    "\n",
    "This tutorial follows through the hyperparameter tuning (hypertuning), working on the Fashion MNIST dataset. There are two kinds of hyperparameters:\n",
    "1. **Model hyperparameters**, influencing model selection (_e.g._ number / width of hidden layers)\n",
    "2. **Algorithm hyperparameters**, influencing speed, quality, _etc_. of the algorithm (_e.g._ the learning rate or the number of nearest neighbours for a k Nearest Neighbour classifier).\n",
    "\n",
    "Let's start by importing the necessary libraries and load and prepare the data."
   ]
  },
  {
   "cell_type": "code",
   "execution_count": 1,
   "metadata": {},
   "outputs": [],
   "source": [
    "import tensorflow as tf\n",
    "from tensorflow import keras\n",
    "import keras_tuner as kt"
   ]
  },
  {
   "cell_type": "code",
   "execution_count": 2,
   "metadata": {},
   "outputs": [],
   "source": [
    "(img_train, label_train), (img_test, label_test) = keras.datasets.fashion_mnist.load_data()"
   ]
  },
  {
   "cell_type": "code",
   "execution_count": 3,
   "metadata": {},
   "outputs": [],
   "source": [
    "img_train = img_train.astype('float32') / 255.0\n",
    "img_test = img_test.astype('float32') / 255.0"
   ]
  },
  {
   "cell_type": "markdown",
   "metadata": {},
   "source": [
    "### Define the model\n",
    "We define the model by defining a model builder function to define the image classification model.  "
   ]
  },
  {
   "cell_type": "code",
   "execution_count": 4,
   "metadata": {},
   "outputs": [],
   "source": [
    "def model_builder(hp):\n",
    "    model = keras.Sequential()\n",
    "    model.add(keras.layers.Flatten(input_shape=(28, 28)))\n",
    "\n",
    "    hp_units = hp.Int('units', min_value=32, max_value=512, step=32)\n",
    "    model.add(keras.layers.Dense(units=hp_units, activation='relu'))\n",
    "    model.add(keras.layers.Dense(10))\n",
    "\n",
    "    hp_learning_rate = hp.Choice('learning_rate', values=[1e-2, 1e-3, 1e-4])\n",
    "\n",
    "    model.compile(optimizer=keras.optimizers.Adam(learning_rate=hp_learning_rate),\n",
    "                  loss=keras.losses.SparseCategoricalCrossentropy(from_logits=True),\n",
    "                  metrics=['accuracy'])\n",
    "\n",
    "    return model"
   ]
  },
  {
   "cell_type": "markdown",
   "metadata": {},
   "source": [
    "## Procedure\n",
    "First, we instantiate the tuner and perform hypertuning. There are four tuners available: `RandomSearch`, `Hyperband`, `BayesianOptimization` and `Sklearn`. We use `Hyperband`. We need also to define what objective to optimize (_e.g._ in this example `'val_accuracy'`) and the maximal number of epochs to train."
   ]
  },
  {
   "cell_type": "code",
   "execution_count": 6,
   "metadata": {},
   "outputs": [],
   "source": [
    "tuner = kt.Hyperband(model_builder,\n",
    "                     objective='val_accuracy',\n",
    "                     max_epochs=10,\n",
    "                     factor=3)"
   ]
  },
  {
   "cell_type": "markdown",
   "metadata": {},
   "source": [
    "We create a callback to stop early after reaching a certain value for the validation loss."
   ]
  },
  {
   "cell_type": "code",
   "execution_count": 7,
   "metadata": {},
   "outputs": [],
   "source": [
    "stop_early = tf.keras.callbacks.EarlyStopping(monitor='val_loss', patience=5)"
   ]
  },
  {
   "cell_type": "markdown",
   "metadata": {},
   "source": [
    "And now it's time to run the hyperparameters search. The parameters are the same as when working with `tf.keras.model.fit`:"
   ]
  },
  {
   "cell_type": "code",
   "execution_count": 8,
   "metadata": {},
   "outputs": [
    {
     "name": "stdout",
     "output_type": "stream",
     "text": [
      "Trial 30 Complete [00h 00m 58s]\n",
      "val_accuracy: 0.8811666369438171\n",
      "\n",
      "Best val_accuracy So Far: 0.8870000243186951\n",
      "Total elapsed time: 00h 10m 26s\n",
      "INFO:tensorflow:Oracle triggered exit\n"
     ]
    },
    {
     "ename": "AttributeError",
     "evalue": "'Hyperband' object has no attribute 'get_best_hyperparametrs'",
     "output_type": "error",
     "traceback": [
      "\u001b[1;31m---------------------------------------------------------------------------\u001b[0m",
      "\u001b[1;31mAttributeError\u001b[0m                            Traceback (most recent call last)",
      "\u001b[1;32mc:\\Users\\xtomma\\Documents\\Training\\TensorFlow\\intro-to-keras-tuner.ipynb Cell 12'\u001b[0m in \u001b[0;36m<cell line: 7>\u001b[1;34m()\u001b[0m\n\u001b[0;32m      <a href='vscode-notebook-cell:/c%3A/Users/xtomma/Documents/Training/TensorFlow/intro-to-keras-tuner.ipynb#ch0000014?line=0'>1</a>\u001b[0m tuner\u001b[39m.\u001b[39msearch(img_train, \n\u001b[0;32m      <a href='vscode-notebook-cell:/c%3A/Users/xtomma/Documents/Training/TensorFlow/intro-to-keras-tuner.ipynb#ch0000014?line=1'>2</a>\u001b[0m              label_train, \n\u001b[0;32m      <a href='vscode-notebook-cell:/c%3A/Users/xtomma/Documents/Training/TensorFlow/intro-to-keras-tuner.ipynb#ch0000014?line=2'>3</a>\u001b[0m              epochs\u001b[39m=\u001b[39m\u001b[39m50\u001b[39m, \n\u001b[0;32m      <a href='vscode-notebook-cell:/c%3A/Users/xtomma/Documents/Training/TensorFlow/intro-to-keras-tuner.ipynb#ch0000014?line=3'>4</a>\u001b[0m              validation_split\u001b[39m=\u001b[39m\u001b[39m0.2\u001b[39m, \n\u001b[0;32m      <a href='vscode-notebook-cell:/c%3A/Users/xtomma/Documents/Training/TensorFlow/intro-to-keras-tuner.ipynb#ch0000014?line=4'>5</a>\u001b[0m              callbacks\u001b[39m=\u001b[39m[stop_early])\n\u001b[1;32m----> <a href='vscode-notebook-cell:/c%3A/Users/xtomma/Documents/Training/TensorFlow/intro-to-keras-tuner.ipynb#ch0000014?line=6'>7</a>\u001b[0m best_hps \u001b[39m=\u001b[39m tuner\u001b[39m.\u001b[39;49mget_best_hyperparametrs(num_trials\u001b[39m=\u001b[39m\u001b[39m1\u001b[39m)[\u001b[39m0\u001b[39m]\n\u001b[0;32m      <a href='vscode-notebook-cell:/c%3A/Users/xtomma/Documents/Training/TensorFlow/intro-to-keras-tuner.ipynb#ch0000014?line=8'>9</a>\u001b[0m \u001b[39mprint\u001b[39m(\u001b[39mf\u001b[39m\u001b[39m\"\"\"\u001b[39m\n\u001b[0;32m     <a href='vscode-notebook-cell:/c%3A/Users/xtomma/Documents/Training/TensorFlow/intro-to-keras-tuner.ipynb#ch0000014?line=9'>10</a>\u001b[0m \u001b[39mThe hyperparameter search is complete. The optimal number of units in the first densely-connected layer\u001b[39m\n\u001b[0;32m     <a href='vscode-notebook-cell:/c%3A/Users/xtomma/Documents/Training/TensorFlow/intro-to-keras-tuner.ipynb#ch0000014?line=10'>11</a>\u001b[0m \u001b[39mis \u001b[39m\u001b[39m{\u001b[39;00mbest_hps\u001b[39m.\u001b[39mget(\u001b[39m'\u001b[39m\u001b[39munits\u001b[39m\u001b[39m'\u001b[39m)\u001b[39m}\u001b[39;00m\u001b[39m and the optimal learning_rate for the optimizer is \u001b[39m\u001b[39m{\u001b[39;00mbest_hps\u001b[39m.\u001b[39mget(\u001b[39m'\u001b[39m\u001b[39mlearning_rate\u001b[39m\u001b[39m'\u001b[39m)\u001b[39m}\u001b[39;00m\u001b[39m.\u001b[39m\n\u001b[0;32m     <a href='vscode-notebook-cell:/c%3A/Users/xtomma/Documents/Training/TensorFlow/intro-to-keras-tuner.ipynb#ch0000014?line=11'>12</a>\u001b[0m \u001b[39m\"\"\"\u001b[39m)\n",
      "\u001b[1;31mAttributeError\u001b[0m: 'Hyperband' object has no attribute 'get_best_hyperparametrs'"
     ]
    }
   ],
   "source": [
    "tuner.search(img_train, \n",
    "             label_train, \n",
    "             epochs=50, \n",
    "             validation_split=0.2, \n",
    "             callbacks=[stop_early],\n",
    "             directory='keras-tuning')\n"
   ]
  },
  {
   "cell_type": "code",
   "execution_count": 9,
   "metadata": {},
   "outputs": [
    {
     "name": "stdout",
     "output_type": "stream",
     "text": [
      "\n",
      "The hyperparameter search is complete. The optimal number of units in the first densely-connected layer\n",
      "is 256 and the optimal learning_rate for the optimizer is 0.001.\n",
      "\n"
     ]
    }
   ],
   "source": [
    "\n",
    "best_hps = tuner.get_best_hyperparameters(num_trials=1)[0]\n",
    "\n",
    "print(f\"\"\"\n",
    "The hyperparameter search is complete. The optimal number of units in the first densely-connected layer\n",
    "is {best_hps.get('units')} and the optimal learning_rate for the optimizer is {best_hps.get('learning_rate')}.\n",
    "\"\"\")"
   ]
  }
 ],
 "metadata": {
  "kernelspec": {
   "display_name": "Python 3.9.12 ('machinelearning')",
   "language": "python",
   "name": "python3"
  },
  "language_info": {
   "codemirror_mode": {
    "name": "ipython",
    "version": 3
   },
   "file_extension": ".py",
   "mimetype": "text/x-python",
   "name": "python",
   "nbconvert_exporter": "python",
   "pygments_lexer": "ipython3",
   "version": "3.9.12"
  },
  "orig_nbformat": 4,
  "vscode": {
   "interpreter": {
    "hash": "25ad6a4be8b7cb5307e079b5c70053dc031a1417502bda203100eef0d9318af0"
   }
  }
 },
 "nbformat": 4,
 "nbformat_minor": 2
}
