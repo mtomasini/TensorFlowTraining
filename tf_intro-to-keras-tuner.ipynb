{
 "cells": [
  {
   "cell_type": "markdown",
   "metadata": {},
   "source": [
    "# Introduction to the Keras Tuner\n",
    "\n",
    "This tutorial follows through the hyperparameter tuning (hypertuning), working on the Fashion MNIST dataset. There are two kinds of hyperparameters:\n",
    "1. **Model hyperparameters**, influencing model selection (_e.g._ number / width of hidden layers)\n",
    "2. **Algorithm hyperparameters**, influencing speed, quality, _etc_. of the algorithm (_e.g._ the learning rate or the number of nearest neighbours for a k Nearest Neighbour classifier).\n",
    "\n",
    "Let's start by importing the necessary libraries and load and prepare the data."
   ]
  },
  {
   "cell_type": "code",
   "execution_count": 1,
   "metadata": {},
   "outputs": [],
   "source": [
    "import tensorflow as tf\n",
    "from tensorflow import keras\n",
    "import keras_tuner as kt"
   ]
  },
  {
   "cell_type": "code",
   "execution_count": 2,
   "metadata": {},
   "outputs": [],
   "source": [
    "(img_train, label_train), (img_test, label_test) = keras.datasets.fashion_mnist.load_data()"
   ]
  },
  {
   "cell_type": "code",
   "execution_count": 3,
   "metadata": {},
   "outputs": [],
   "source": [
    "img_train = img_train.astype('float32') / 255.0\n",
    "img_test = img_test.astype('float32') / 255.0"
   ]
  },
  {
   "cell_type": "markdown",
   "metadata": {},
   "source": [
    "### Define the model\n",
    "We define the model by defining a model builder function to define the image classification model.  "
   ]
  },
  {
   "cell_type": "code",
   "execution_count": 4,
   "metadata": {},
   "outputs": [],
   "source": [
    "def model_builder(hp):\n",
    "    model = keras.Sequential()\n",
    "    model.add(keras.layers.Flatten(input_shape=(28, 28)))\n",
    "\n",
    "    hp_units = hp.Int('units', min_value=32, max_value=512, step=32)\n",
    "    model.add(keras.layers.Dense(units=hp_units, activation='relu'))\n",
    "    model.add(keras.layers.Dense(10))\n",
    "\n",
    "    hp_learning_rate = hp.Choice('learning_rate', values=[1e-2, 1e-3, 1e-4])\n",
    "\n",
    "    model.compile(optimizer=keras.optimizers.Adam(learning_rate=hp_learning_rate),\n",
    "                  loss=keras.losses.SparseCategoricalCrossentropy(from_logits=True),\n",
    "                  metrics=['accuracy'])\n",
    "\n",
    "    return model"
   ]
  },
  {
   "cell_type": "markdown",
   "metadata": {},
   "source": [
    "## Procedure\n",
    "First, we instantiate the tuner and perform hypertuning. There are four tuners available: `RandomSearch`, `Hyperband`, `BayesianOptimization` and `Sklearn`. We use `Hyperband`. We need also to define what objective to optimize (_e.g._ in this example `'val_accuracy'`) and the maximal number of epochs to train."
   ]
  },
  {
   "cell_type": "code",
   "execution_count": 6,
   "metadata": {},
   "outputs": [],
   "source": [
    "tuner = kt.Hyperband(model_builder,\n",
    "                     objective='val_accuracy',\n",
    "                     max_epochs=10,\n",
    "                     factor=3)"
   ]
  },
  {
   "cell_type": "markdown",
   "metadata": {},
   "source": [
    "We create a callback to stop early after reaching a certain value for the validation loss."
   ]
  },
  {
   "cell_type": "code",
   "execution_count": 7,
   "metadata": {},
   "outputs": [],
   "source": [
    "stop_early = tf.keras.callbacks.EarlyStopping(monitor='val_loss', patience=5)"
   ]
  },
  {
   "cell_type": "markdown",
   "metadata": {},
   "source": [
    "And now it's time to run the hyperparameters search. The parameters are the same as when working with `tf.keras.model.fit`:"
   ]
  },
  {
   "cell_type": "code",
   "execution_count": 8,
   "metadata": {},
   "outputs": [
    {
     "name": "stdout",
     "output_type": "stream",
     "text": [
      "Trial 30 Complete [00h 00m 58s]\n",
      "val_accuracy: 0.8811666369438171\n",
      "\n",
      "Best val_accuracy So Far: 0.8870000243186951\n",
      "Total elapsed time: 00h 10m 26s\n",
      "INFO:tensorflow:Oracle triggered exit\n"
     ]
    },
    {
     "ename": "AttributeError",
     "evalue": "'Hyperband' object has no attribute 'get_best_hyperparametrs'",
     "output_type": "error",
     "traceback": [
      "\u001b[1;31m---------------------------------------------------------------------------\u001b[0m",
      "\u001b[1;31mAttributeError\u001b[0m                            Traceback (most recent call last)",
      "\u001b[1;32mc:\\Users\\xtomma\\Documents\\Training\\TensorFlow\\intro-to-keras-tuner.ipynb Cell 12'\u001b[0m in \u001b[0;36m<cell line: 7>\u001b[1;34m()\u001b[0m\n\u001b[0;32m      <a href='vscode-notebook-cell:/c%3A/Users/xtomma/Documents/Training/TensorFlow/intro-to-keras-tuner.ipynb#ch0000014?line=0'>1</a>\u001b[0m tuner\u001b[39m.\u001b[39msearch(img_train, \n\u001b[0;32m      <a href='vscode-notebook-cell:/c%3A/Users/xtomma/Documents/Training/TensorFlow/intro-to-keras-tuner.ipynb#ch0000014?line=1'>2</a>\u001b[0m              label_train, \n\u001b[0;32m      <a href='vscode-notebook-cell:/c%3A/Users/xtomma/Documents/Training/TensorFlow/intro-to-keras-tuner.ipynb#ch0000014?line=2'>3</a>\u001b[0m              epochs\u001b[39m=\u001b[39m\u001b[39m50\u001b[39m, \n\u001b[0;32m      <a href='vscode-notebook-cell:/c%3A/Users/xtomma/Documents/Training/TensorFlow/intro-to-keras-tuner.ipynb#ch0000014?line=3'>4</a>\u001b[0m              validation_split\u001b[39m=\u001b[39m\u001b[39m0.2\u001b[39m, \n\u001b[0;32m      <a href='vscode-notebook-cell:/c%3A/Users/xtomma/Documents/Training/TensorFlow/intro-to-keras-tuner.ipynb#ch0000014?line=4'>5</a>\u001b[0m              callbacks\u001b[39m=\u001b[39m[stop_early])\n\u001b[1;32m----> <a href='vscode-notebook-cell:/c%3A/Users/xtomma/Documents/Training/TensorFlow/intro-to-keras-tuner.ipynb#ch0000014?line=6'>7</a>\u001b[0m best_hps \u001b[39m=\u001b[39m tuner\u001b[39m.\u001b[39;49mget_best_hyperparametrs(num_trials\u001b[39m=\u001b[39m\u001b[39m1\u001b[39m)[\u001b[39m0\u001b[39m]\n\u001b[0;32m      <a href='vscode-notebook-cell:/c%3A/Users/xtomma/Documents/Training/TensorFlow/intro-to-keras-tuner.ipynb#ch0000014?line=8'>9</a>\u001b[0m \u001b[39mprint\u001b[39m(\u001b[39mf\u001b[39m\u001b[39m\"\"\"\u001b[39m\n\u001b[0;32m     <a href='vscode-notebook-cell:/c%3A/Users/xtomma/Documents/Training/TensorFlow/intro-to-keras-tuner.ipynb#ch0000014?line=9'>10</a>\u001b[0m \u001b[39mThe hyperparameter search is complete. The optimal number of units in the first densely-connected layer\u001b[39m\n\u001b[0;32m     <a href='vscode-notebook-cell:/c%3A/Users/xtomma/Documents/Training/TensorFlow/intro-to-keras-tuner.ipynb#ch0000014?line=10'>11</a>\u001b[0m \u001b[39mis \u001b[39m\u001b[39m{\u001b[39;00mbest_hps\u001b[39m.\u001b[39mget(\u001b[39m'\u001b[39m\u001b[39munits\u001b[39m\u001b[39m'\u001b[39m)\u001b[39m}\u001b[39;00m\u001b[39m and the optimal learning_rate for the optimizer is \u001b[39m\u001b[39m{\u001b[39;00mbest_hps\u001b[39m.\u001b[39mget(\u001b[39m'\u001b[39m\u001b[39mlearning_rate\u001b[39m\u001b[39m'\u001b[39m)\u001b[39m}\u001b[39;00m\u001b[39m.\u001b[39m\n\u001b[0;32m     <a href='vscode-notebook-cell:/c%3A/Users/xtomma/Documents/Training/TensorFlow/intro-to-keras-tuner.ipynb#ch0000014?line=11'>12</a>\u001b[0m \u001b[39m\"\"\"\u001b[39m)\n",
      "\u001b[1;31mAttributeError\u001b[0m: 'Hyperband' object has no attribute 'get_best_hyperparametrs'"
     ]
    }
   ],
   "source": [
    "tuner.search(img_train, \n",
    "             label_train, \n",
    "             epochs=50, \n",
    "             validation_split=0.2, \n",
    "             callbacks=[stop_early],\n",
    "             directory='keras-tuning')\n"
   ]
  },
  {
   "cell_type": "code",
   "execution_count": 9,
   "metadata": {},
   "outputs": [
    {
     "name": "stdout",
     "output_type": "stream",
     "text": [
      "\n",
      "The hyperparameter search is complete. The optimal number of units in the first densely-connected layer\n",
      "is 256 and the optimal learning_rate for the optimizer is 0.001.\n",
      "\n"
     ]
    }
   ],
   "source": [
    "best_hps = tuner.get_best_hyperparameters(num_trials=1)[0]\n",
    "\n",
    "print(f\"\"\"\n",
    "The hyperparameter search is complete. The optimal number of units in the first densely-connected layer\n",
    "is {best_hps.get('units')} and the optimal learning_rate for the optimizer is {best_hps.get('learning_rate')}.\n",
    "\"\"\")"
   ]
  },
  {
   "cell_type": "markdown",
   "metadata": {},
   "source": [
    "### Train the model"
   ]
  },
  {
   "cell_type": "code",
   "execution_count": 10,
   "metadata": {},
   "outputs": [
    {
     "name": "stdout",
     "output_type": "stream",
     "text": [
      "Epoch 1/50\n",
      "1500/1500 [==============================] - 5s 3ms/step - loss: 0.5035 - accuracy: 0.8220 - val_loss: 0.4186 - val_accuracy: 0.8480\n",
      "Epoch 2/50\n",
      "1500/1500 [==============================] - 5s 3ms/step - loss: 0.3779 - accuracy: 0.8622 - val_loss: 0.3758 - val_accuracy: 0.8607\n",
      "Epoch 3/50\n",
      "1500/1500 [==============================] - 5s 3ms/step - loss: 0.3385 - accuracy: 0.8761 - val_loss: 0.3360 - val_accuracy: 0.8767\n",
      "Epoch 4/50\n",
      "1500/1500 [==============================] - 5s 3ms/step - loss: 0.3110 - accuracy: 0.8857 - val_loss: 0.3356 - val_accuracy: 0.8775\n",
      "Epoch 5/50\n",
      "1500/1500 [==============================] - 5s 3ms/step - loss: 0.2905 - accuracy: 0.8911 - val_loss: 0.3380 - val_accuracy: 0.8793\n",
      "Epoch 6/50\n",
      "1500/1500 [==============================] - 5s 3ms/step - loss: 0.2743 - accuracy: 0.8981 - val_loss: 0.3260 - val_accuracy: 0.8812\n",
      "Epoch 7/50\n",
      "1500/1500 [==============================] - 5s 3ms/step - loss: 0.2633 - accuracy: 0.9011 - val_loss: 0.3293 - val_accuracy: 0.8823\n",
      "Epoch 8/50\n",
      "1500/1500 [==============================] - 5s 3ms/step - loss: 0.2513 - accuracy: 0.9069 - val_loss: 0.3098 - val_accuracy: 0.8897\n",
      "Epoch 9/50\n",
      "1500/1500 [==============================] - 5s 3ms/step - loss: 0.2376 - accuracy: 0.9111 - val_loss: 0.3362 - val_accuracy: 0.8823\n",
      "Epoch 10/50\n",
      "1500/1500 [==============================] - 5s 3ms/step - loss: 0.2273 - accuracy: 0.9154 - val_loss: 0.3070 - val_accuracy: 0.8901\n",
      "Epoch 11/50\n",
      "1500/1500 [==============================] - 5s 4ms/step - loss: 0.2188 - accuracy: 0.9172 - val_loss: 0.3159 - val_accuracy: 0.8892\n",
      "Epoch 12/50\n",
      "1500/1500 [==============================] - 5s 3ms/step - loss: 0.2120 - accuracy: 0.9199 - val_loss: 0.3095 - val_accuracy: 0.8938\n",
      "Epoch 13/50\n",
      "1500/1500 [==============================] - 4s 3ms/step - loss: 0.1999 - accuracy: 0.9247 - val_loss: 0.3134 - val_accuracy: 0.8917\n",
      "Epoch 14/50\n",
      "1500/1500 [==============================] - 4s 3ms/step - loss: 0.1955 - accuracy: 0.9265 - val_loss: 0.3186 - val_accuracy: 0.8882\n",
      "Epoch 15/50\n",
      "1500/1500 [==============================] - 4s 3ms/step - loss: 0.1890 - accuracy: 0.9299 - val_loss: 0.3498 - val_accuracy: 0.8896\n",
      "Epoch 16/50\n",
      "1500/1500 [==============================] - 4s 3ms/step - loss: 0.1836 - accuracy: 0.9310 - val_loss: 0.3349 - val_accuracy: 0.8886\n",
      "Epoch 17/50\n",
      "1500/1500 [==============================] - 4s 3ms/step - loss: 0.1761 - accuracy: 0.9331 - val_loss: 0.3479 - val_accuracy: 0.8883\n",
      "Epoch 18/50\n",
      "1500/1500 [==============================] - 4s 3ms/step - loss: 0.1712 - accuracy: 0.9364 - val_loss: 0.3427 - val_accuracy: 0.8890\n",
      "Epoch 19/50\n",
      "1500/1500 [==============================] - 4s 3ms/step - loss: 0.1662 - accuracy: 0.9374 - val_loss: 0.3360 - val_accuracy: 0.8951\n",
      "Epoch 20/50\n",
      "1500/1500 [==============================] - 4s 3ms/step - loss: 0.1604 - accuracy: 0.9402 - val_loss: 0.3394 - val_accuracy: 0.8947\n",
      "Epoch 21/50\n",
      "1500/1500 [==============================] - 4s 3ms/step - loss: 0.1572 - accuracy: 0.9401 - val_loss: 0.3322 - val_accuracy: 0.8950\n",
      "Epoch 22/50\n",
      "1500/1500 [==============================] - 4s 3ms/step - loss: 0.1505 - accuracy: 0.9437 - val_loss: 0.3465 - val_accuracy: 0.8964\n",
      "Epoch 23/50\n",
      "1500/1500 [==============================] - 4s 3ms/step - loss: 0.1469 - accuracy: 0.9449 - val_loss: 0.3534 - val_accuracy: 0.8943\n",
      "Epoch 24/50\n",
      "1500/1500 [==============================] - 5s 3ms/step - loss: 0.1426 - accuracy: 0.9473 - val_loss: 0.3669 - val_accuracy: 0.8942\n",
      "Epoch 25/50\n",
      "1500/1500 [==============================] - 6s 4ms/step - loss: 0.1389 - accuracy: 0.9481 - val_loss: 0.3565 - val_accuracy: 0.8974\n",
      "Epoch 26/50\n",
      "1500/1500 [==============================] - 5s 3ms/step - loss: 0.1358 - accuracy: 0.9475 - val_loss: 0.3671 - val_accuracy: 0.8927\n",
      "Epoch 27/50\n",
      "1500/1500 [==============================] - 4s 3ms/step - loss: 0.1333 - accuracy: 0.9500 - val_loss: 0.3641 - val_accuracy: 0.8935\n",
      "Epoch 28/50\n",
      "1500/1500 [==============================] - 4s 3ms/step - loss: 0.1270 - accuracy: 0.9534 - val_loss: 0.3903 - val_accuracy: 0.8914\n",
      "Epoch 29/50\n",
      "1500/1500 [==============================] - 4s 3ms/step - loss: 0.1235 - accuracy: 0.9539 - val_loss: 0.3761 - val_accuracy: 0.8967\n",
      "Epoch 30/50\n",
      "1500/1500 [==============================] - 4s 3ms/step - loss: 0.1217 - accuracy: 0.9546 - val_loss: 0.3736 - val_accuracy: 0.8964\n",
      "Epoch 31/50\n",
      "1500/1500 [==============================] - 5s 3ms/step - loss: 0.1165 - accuracy: 0.9559 - val_loss: 0.4211 - val_accuracy: 0.8867\n",
      "Epoch 32/50\n",
      "1500/1500 [==============================] - 4s 3ms/step - loss: 0.1129 - accuracy: 0.9582 - val_loss: 0.4192 - val_accuracy: 0.8892\n",
      "Epoch 33/50\n",
      "1500/1500 [==============================] - 4s 3ms/step - loss: 0.1134 - accuracy: 0.9577 - val_loss: 0.4367 - val_accuracy: 0.8927\n",
      "Epoch 34/50\n",
      "1500/1500 [==============================] - 4s 3ms/step - loss: 0.1091 - accuracy: 0.9586 - val_loss: 0.3826 - val_accuracy: 0.8978\n",
      "Epoch 35/50\n",
      "1500/1500 [==============================] - 4s 3ms/step - loss: 0.1054 - accuracy: 0.9606 - val_loss: 0.4352 - val_accuracy: 0.8906\n",
      "Epoch 36/50\n",
      "1500/1500 [==============================] - 4s 3ms/step - loss: 0.1040 - accuracy: 0.9604 - val_loss: 0.4103 - val_accuracy: 0.8962\n",
      "Epoch 37/50\n",
      "1500/1500 [==============================] - 4s 3ms/step - loss: 0.1019 - accuracy: 0.9620 - val_loss: 0.4328 - val_accuracy: 0.8923\n",
      "Epoch 38/50\n",
      "1500/1500 [==============================] - 4s 3ms/step - loss: 0.0992 - accuracy: 0.9621 - val_loss: 0.4248 - val_accuracy: 0.8905\n",
      "Epoch 39/50\n",
      "1500/1500 [==============================] - 4s 3ms/step - loss: 0.0970 - accuracy: 0.9639 - val_loss: 0.4500 - val_accuracy: 0.8907\n",
      "Epoch 40/50\n",
      "1500/1500 [==============================] - 4s 3ms/step - loss: 0.0948 - accuracy: 0.9646 - val_loss: 0.4607 - val_accuracy: 0.8932\n",
      "Epoch 41/50\n",
      "1500/1500 [==============================] - 4s 3ms/step - loss: 0.0906 - accuracy: 0.9665 - val_loss: 0.4267 - val_accuracy: 0.8968\n",
      "Epoch 42/50\n",
      "1500/1500 [==============================] - 4s 3ms/step - loss: 0.0904 - accuracy: 0.9661 - val_loss: 0.4522 - val_accuracy: 0.8932\n",
      "Epoch 43/50\n",
      "1500/1500 [==============================] - 4s 3ms/step - loss: 0.0871 - accuracy: 0.9671 - val_loss: 0.4790 - val_accuracy: 0.8934\n",
      "Epoch 44/50\n",
      "1500/1500 [==============================] - 4s 3ms/step - loss: 0.0866 - accuracy: 0.9684 - val_loss: 0.4613 - val_accuracy: 0.8931\n",
      "Epoch 45/50\n",
      "1500/1500 [==============================] - 4s 3ms/step - loss: 0.0866 - accuracy: 0.9681 - val_loss: 0.4678 - val_accuracy: 0.8955\n",
      "Epoch 46/50\n",
      "1500/1500 [==============================] - 5s 3ms/step - loss: 0.0810 - accuracy: 0.9701 - val_loss: 0.5098 - val_accuracy: 0.8874\n",
      "Epoch 47/50\n",
      "1500/1500 [==============================] - 4s 3ms/step - loss: 0.0847 - accuracy: 0.9688 - val_loss: 0.4904 - val_accuracy: 0.8941\n",
      "Epoch 48/50\n",
      "1500/1500 [==============================] - 5s 3ms/step - loss: 0.0761 - accuracy: 0.9719 - val_loss: 0.4904 - val_accuracy: 0.8923\n",
      "Epoch 49/50\n",
      "1500/1500 [==============================] - 5s 3ms/step - loss: 0.0781 - accuracy: 0.9703 - val_loss: 0.5122 - val_accuracy: 0.8906\n",
      "Epoch 50/50\n",
      "1500/1500 [==============================] - 5s 3ms/step - loss: 0.0784 - accuracy: 0.9714 - val_loss: 0.5229 - val_accuracy: 0.8939\n"
     ]
    }
   ],
   "source": [
    "model = tuner.hypermodel.build(best_hps)\n",
    "history = model.fit(img_train, label_train, epochs=50, validation_split=0.2)"
   ]
  },
  {
   "cell_type": "code",
   "execution_count": 11,
   "metadata": {},
   "outputs": [
    {
     "name": "stdout",
     "output_type": "stream",
     "text": [
      "Best epoch: 34\n"
     ]
    }
   ],
   "source": [
    "val_accuracy = history.history['val_accuracy']\n",
    "best_epoch = val_accuracy.index(max(val_accuracy)) + 1\n",
    "print('Best epoch: %d' % (best_epoch,))"
   ]
  },
  {
   "cell_type": "markdown",
   "metadata": {},
   "source": [
    "And now we retrain the model with the best number of epochs according to the test we just performed!"
   ]
  },
  {
   "cell_type": "code",
   "execution_count": 12,
   "metadata": {},
   "outputs": [
    {
     "name": "stdout",
     "output_type": "stream",
     "text": [
      "Epoch 1/34\n",
      "1500/1500 [==============================] - 5s 3ms/step - loss: 0.4973 - accuracy: 0.8235 - val_loss: 0.4229 - val_accuracy: 0.8446\n",
      "Epoch 2/34\n",
      "1500/1500 [==============================] - 4s 3ms/step - loss: 0.3746 - accuracy: 0.8641 - val_loss: 0.3707 - val_accuracy: 0.8693\n",
      "Epoch 3/34\n",
      "1500/1500 [==============================] - 4s 3ms/step - loss: 0.3327 - accuracy: 0.8779 - val_loss: 0.3684 - val_accuracy: 0.8673\n",
      "Epoch 4/34\n",
      "1500/1500 [==============================] - 5s 3ms/step - loss: 0.3098 - accuracy: 0.8862 - val_loss: 0.3358 - val_accuracy: 0.8810\n",
      "Epoch 5/34\n",
      "1500/1500 [==============================] - 5s 3ms/step - loss: 0.2891 - accuracy: 0.8941 - val_loss: 0.3409 - val_accuracy: 0.8783\n",
      "Epoch 6/34\n",
      "1500/1500 [==============================] - 5s 3ms/step - loss: 0.2781 - accuracy: 0.8981 - val_loss: 0.3276 - val_accuracy: 0.8802\n",
      "Epoch 7/34\n",
      "1500/1500 [==============================] - 4s 3ms/step - loss: 0.2609 - accuracy: 0.9037 - val_loss: 0.3311 - val_accuracy: 0.8812\n",
      "Epoch 8/34\n",
      "1500/1500 [==============================] - 4s 3ms/step - loss: 0.2516 - accuracy: 0.9050 - val_loss: 0.3148 - val_accuracy: 0.8868\n",
      "Epoch 9/34\n",
      "1500/1500 [==============================] - 4s 3ms/step - loss: 0.2409 - accuracy: 0.9087 - val_loss: 0.3372 - val_accuracy: 0.8773\n",
      "Epoch 10/34\n",
      "1500/1500 [==============================] - 5s 3ms/step - loss: 0.2299 - accuracy: 0.9136 - val_loss: 0.3321 - val_accuracy: 0.8861\n",
      "Epoch 11/34\n",
      "1500/1500 [==============================] - 5s 3ms/step - loss: 0.2206 - accuracy: 0.9174 - val_loss: 0.3277 - val_accuracy: 0.8862\n",
      "Epoch 12/34\n",
      "1500/1500 [==============================] - 4s 3ms/step - loss: 0.2106 - accuracy: 0.9219 - val_loss: 0.3286 - val_accuracy: 0.8905\n",
      "Epoch 13/34\n",
      "1500/1500 [==============================] - 5s 3ms/step - loss: 0.2069 - accuracy: 0.9213 - val_loss: 0.3048 - val_accuracy: 0.8942\n",
      "Epoch 14/34\n",
      "1500/1500 [==============================] - 5s 3ms/step - loss: 0.1966 - accuracy: 0.9259 - val_loss: 0.3118 - val_accuracy: 0.8943\n",
      "Epoch 15/34\n",
      "1500/1500 [==============================] - 4s 3ms/step - loss: 0.1905 - accuracy: 0.9289 - val_loss: 0.3290 - val_accuracy: 0.8907\n",
      "Epoch 16/34\n",
      "1500/1500 [==============================] - 6s 4ms/step - loss: 0.1855 - accuracy: 0.9302 - val_loss: 0.3410 - val_accuracy: 0.8895\n",
      "Epoch 17/34\n",
      "1500/1500 [==============================] - 4s 3ms/step - loss: 0.1791 - accuracy: 0.9321 - val_loss: 0.3292 - val_accuracy: 0.8923\n",
      "Epoch 18/34\n",
      "1500/1500 [==============================] - 4s 3ms/step - loss: 0.1730 - accuracy: 0.9354 - val_loss: 0.3333 - val_accuracy: 0.8937\n",
      "Epoch 19/34\n",
      "1500/1500 [==============================] - 4s 3ms/step - loss: 0.1660 - accuracy: 0.9375 - val_loss: 0.3589 - val_accuracy: 0.8894\n",
      "Epoch 20/34\n",
      "1500/1500 [==============================] - 4s 3ms/step - loss: 0.1651 - accuracy: 0.9375 - val_loss: 0.3448 - val_accuracy: 0.8886\n",
      "Epoch 21/34\n",
      "1500/1500 [==============================] - 4s 3ms/step - loss: 0.1583 - accuracy: 0.9404 - val_loss: 0.3507 - val_accuracy: 0.8942\n",
      "Epoch 22/34\n",
      "1500/1500 [==============================] - 4s 3ms/step - loss: 0.1508 - accuracy: 0.9436 - val_loss: 0.3562 - val_accuracy: 0.8913\n",
      "Epoch 23/34\n",
      "1500/1500 [==============================] - 4s 3ms/step - loss: 0.1495 - accuracy: 0.9432 - val_loss: 0.3397 - val_accuracy: 0.8928\n",
      "Epoch 24/34\n",
      "1500/1500 [==============================] - 4s 3ms/step - loss: 0.1431 - accuracy: 0.9462 - val_loss: 0.3456 - val_accuracy: 0.8940\n",
      "Epoch 25/34\n",
      "1500/1500 [==============================] - 4s 3ms/step - loss: 0.1398 - accuracy: 0.9468 - val_loss: 0.3603 - val_accuracy: 0.8938\n",
      "Epoch 26/34\n",
      "1500/1500 [==============================] - 4s 3ms/step - loss: 0.1341 - accuracy: 0.9490 - val_loss: 0.3600 - val_accuracy: 0.8953\n",
      "Epoch 27/34\n",
      "1500/1500 [==============================] - 4s 3ms/step - loss: 0.1321 - accuracy: 0.9493 - val_loss: 0.4046 - val_accuracy: 0.8897\n",
      "Epoch 28/34\n",
      "1500/1500 [==============================] - 4s 3ms/step - loss: 0.1287 - accuracy: 0.9515 - val_loss: 0.3784 - val_accuracy: 0.8931\n",
      "Epoch 29/34\n",
      "1500/1500 [==============================] - 4s 3ms/step - loss: 0.1238 - accuracy: 0.9534 - val_loss: 0.3862 - val_accuracy: 0.8945\n",
      "Epoch 30/34\n",
      "1500/1500 [==============================] - 4s 3ms/step - loss: 0.1252 - accuracy: 0.9530 - val_loss: 0.4243 - val_accuracy: 0.8852\n",
      "Epoch 31/34\n",
      "1500/1500 [==============================] - 4s 3ms/step - loss: 0.1184 - accuracy: 0.9560 - val_loss: 0.4147 - val_accuracy: 0.8938\n",
      "Epoch 32/34\n",
      "1500/1500 [==============================] - 4s 3ms/step - loss: 0.1192 - accuracy: 0.9546 - val_loss: 0.4009 - val_accuracy: 0.8936\n",
      "Epoch 33/34\n",
      "1500/1500 [==============================] - 4s 3ms/step - loss: 0.1119 - accuracy: 0.9579 - val_loss: 0.4415 - val_accuracy: 0.8887\n",
      "Epoch 34/34\n",
      "1500/1500 [==============================] - 4s 3ms/step - loss: 0.1151 - accuracy: 0.9576 - val_loss: 0.4211 - val_accuracy: 0.8917\n"
     ]
    },
    {
     "data": {
      "text/plain": [
       "<keras.callbacks.History at 0x1aa97972d60>"
      ]
     },
     "execution_count": 12,
     "metadata": {},
     "output_type": "execute_result"
    }
   ],
   "source": [
    "hypermodel = tuner.hypermodel.build(best_hps)\n",
    "hypermodel.fit(img_train, label_train, epochs=best_epoch, validation_split=0.2)"
   ]
  },
  {
   "cell_type": "markdown",
   "metadata": {},
   "source": [
    "To finish, we evaluate the model on the test data."
   ]
  },
  {
   "cell_type": "code",
   "execution_count": 13,
   "metadata": {},
   "outputs": [
    {
     "name": "stdout",
     "output_type": "stream",
     "text": [
      "313/313 [==============================] - 1s 2ms/step - loss: 0.4703 - accuracy: 0.8841\n",
      "[test loss, test accuracy]: [0.4703187048435211, 0.8841000199317932]\n"
     ]
    }
   ],
   "source": [
    "eval_results = hypermodel.evaluate(img_test, label_test)\n",
    "print(\"[test loss, test accuracy]:\", eval_results)"
   ]
  },
  {
   "cell_type": "markdown",
   "metadata": {},
   "source": [
    "Now it's time to test the tuner in some other models!"
   ]
  }
 ],
 "metadata": {
  "kernelspec": {
   "display_name": "Python 3.9.12 ('machinelearning')",
   "language": "python",
   "name": "python3"
  },
  "language_info": {
   "codemirror_mode": {
    "name": "ipython",
    "version": 3
   },
   "file_extension": ".py",
   "mimetype": "text/x-python",
   "name": "python",
   "nbconvert_exporter": "python",
   "pygments_lexer": "ipython3",
   "version": "3.9.12"
  },
  "orig_nbformat": 4,
  "vscode": {
   "interpreter": {
    "hash": "25ad6a4be8b7cb5307e079b5c70053dc031a1417502bda203100eef0d9318af0"
   }
  }
 },
 "nbformat": 4,
 "nbformat_minor": 2
}
